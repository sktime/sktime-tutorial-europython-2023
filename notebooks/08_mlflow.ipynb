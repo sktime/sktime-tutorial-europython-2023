{
 "cells": [
  {
   "attachments": {},
   "cell_type": "markdown",
   "id": "37997396",
   "metadata": {},
   "source": [
    "# Deploying `sktime` via `MLflow` & `MLflavors`"
   ]
  },
  {
   "attachments": {},
   "cell_type": "markdown",
   "id": "f990e6e0",
   "metadata": {},
   "source": [
    "requires MLflow using the [MLflavors library](https://github.com/ml-toolkits/mlflavors).\n",
    "\n",
    "**Notebook contents**:\n",
    "\n",
    "- saving `sktime` models as MLflow artifacts.\n",
    "- loading `sktime` models from MLflow for batch inference.\n",
    "- deploying `sktime` models to a serving endpoint using MLflow"
   ]
  },
  {
   "attachments": {},
   "cell_type": "markdown",
   "id": "35906f49",
   "metadata": {},
   "source": [
    "Design summary:\n",
    "\n",
    "* uses `pyfunc` based custom flavor similar to `sktime` example in [MLflow documentaion](https://mlflow.org/docs/latest/models.html#custom-flavors)\n",
    "* single-row `pandas` `DataFrame` configuration arguments to address the `sktime` prediction API in inference step"
   ]
  },
  {
   "attachments": {},
   "cell_type": "markdown",
   "id": "ae526e0a",
   "metadata": {},
   "source": [
    "## Saving `sktime` model as an MLflow artifact"
   ]
  },
  {
   "attachments": {},
   "cell_type": "markdown",
   "id": "600f758c",
   "metadata": {},
   "source": [
    "Example: save fitted model, model parameters, and results of this experiment to server\n",
    "\n",
    "* fit `NaiveForecaster` on longley data (with exogenous vars)\n",
    "* evaluate via MAE and MAPE"
   ]
  },
  {
   "attachments": {},
   "cell_type": "markdown",
   "id": "62662cad",
   "metadata": {},
   "source": [
    "first without mlflow"
   ]
  },
  {
   "cell_type": "code",
   "execution_count": 1,
   "id": "9f739fd6",
   "metadata": {},
   "outputs": [],
   "source": [
    "from sktime.datasets import load_longley\n",
    "from sktime.forecasting.model_selection import temporal_train_test_split\n",
    "from sktime.forecasting.naive import NaiveForecaster\n",
    "from sktime.performance_metrics.forecasting import (\n",
    "    mean_absolute_error,\n",
    "    mean_absolute_percentage_error,\n",
    ")\n",
    "\n",
    "y, X = load_longley()\n",
    "y_train, y_test, X_train, X_test = temporal_train_test_split(y, X)\n",
    "\n",
    "forecaster = NaiveForecaster()\n",
    "forecaster.fit(\n",
    "    y_train,\n",
    "    X=X_train,\n",
    "    fh=[1, 2, 3, 4],\n",
    ")\n",
    "\n",
    "# Extract parameters\n",
    "parameters = forecaster.get_params()\n",
    "\n",
    "# Evaluate model\n",
    "y_pred = forecaster.predict(X=X_test)\n",
    "metrics = {\n",
    "    \"mae\": mean_absolute_error(y_test, y_pred),\n",
    "    \"mape\": mean_absolute_percentage_error(y_test, y_pred),\n",
    "}\n"
   ]
  },
  {
   "attachments": {},
   "cell_type": "markdown",
   "id": "1fcf7200",
   "metadata": {},
   "source": [
    "with `mlflow` / `mlflavors`:\n",
    "\n",
    "* use `mlflow` context manager `start_run`\n",
    "* results are logged/saved using standard `mlflow.log_params`, `log_metrics`\n",
    "* model is logged/saved using `mlflavors.sktime.log_model`\n",
    "\n",
    "for further use (load), get artefact URI using `get_artifact_uri`"
   ]
  },
  {
   "cell_type": "code",
   "execution_count": null,
   "id": "a25fb2d2",
   "metadata": {},
   "outputs": [],
   "source": [
    "import json\n",
    "\n",
    "import mlflavors\n",
    "import mlflow\n",
    "from sktime.datasets import load_longley\n",
    "from sktime.forecasting.model_selection import temporal_train_test_split\n",
    "from sktime.forecasting.naive import NaiveForecaster\n",
    "from sktime.performance_metrics.forecasting import (\n",
    "    mean_absolute_error,\n",
    "    mean_absolute_percentage_error,\n",
    ")\n",
    "\n",
    "\n",
    "ARTIFACT_PATH = \"model\"\n",
    "\n",
    "with mlflow.start_run() as run:\n",
    "    y, X = load_longley()\n",
    "    y_train, y_test, X_train, X_test = temporal_train_test_split(y, X)\n",
    "\n",
    "    forecaster = NaiveForecaster()\n",
    "    forecaster.fit(\n",
    "        y_train,\n",
    "        X=X_train,\n",
    "        fh=[1, 2, 3, 4],\n",
    "    )\n",
    "\n",
    "    # Extract parameters\n",
    "    parameters = forecaster.get_params()\n",
    "\n",
    "    # Evaluate model\n",
    "    y_pred = forecaster.predict(X=X_test)\n",
    "    metrics = {\n",
    "        \"mae\": mean_absolute_error(y_test, y_pred),\n",
    "        \"mape\": mean_absolute_percentage_error(y_test, y_pred),\n",
    "    }\n",
    "\n",
    "    print(f\"Parameters: \\n{json.dumps(parameters, indent=2)}\")\n",
    "    print(f\"\\nMetrics: \\n{json.dumps(metrics, indent=2)}\")\n",
    "\n",
    "    # Log parameters and metrics\n",
    "    mlflow.log_params(parameters)\n",
    "    mlflow.log_metrics(metrics)\n",
    "\n",
    "    # Log model to MLflow tracking server\n",
    "    mlflavors.sktime.log_model(\n",
    "        sktime_model=forecaster,\n",
    "        artifact_path=ARTIFACT_PATH,\n",
    "    )\n",
    "    \n",
    "    # Return model uri from the current run\n",
    "    model_uri = mlflow.get_artifact_uri(ARTIFACT_PATH)\n",
    "    \n",
    "# Print the run id wich is used below for serving the model to a local REST API endpoint\n",
    "print(f\"\\nMLflow run id:\\n{run.info.run_id}\")"
   ]
  },
  {
   "attachments": {},
   "cell_type": "markdown",
   "id": "3df09b27",
   "metadata": {},
   "source": [
    "## Viewing the model in the MLflow UI\n",
    "To view the run output in the MLflow UI run the following command:\n",
    "\n",
    "```bash\n",
    "mlflow ui\n",
    "```\n",
    "\n",
    "When opening the MLflow runs detail page the serialized model artifact will show up, such as:\n",
    "\n",
    "![title](../images/tracking_artifact_ui.png)"
   ]
  },
  {
   "attachments": {},
   "cell_type": "markdown",
   "id": "c2f2f7c6",
   "metadata": {},
   "source": [
    "## Loading the model from MLflow"
   ]
  },
  {
   "attachments": {},
   "cell_type": "markdown",
   "id": "d36fdfbf",
   "metadata": {},
   "source": [
    "two options to load and predict:\n",
    "\n",
    "* load in native format using `load_model`, then call method directly\n",
    "* using `pyfunc.load_model` and `predict` with a `DataFrame` configuration to address method"
   ]
  },
  {
   "attachments": {},
   "cell_type": "markdown",
   "id": "7b9c715c",
   "metadata": {},
   "source": [
    "option 1: `load_model`, native"
   ]
  },
  {
   "cell_type": "code",
   "execution_count": null,
   "id": "b310fcb8",
   "metadata": {},
   "outputs": [],
   "source": [
    "loaded_model = mlflavors.sktime.load_model(model_uri=model_uri)\n",
    "print(loaded_model.predict_interval(fh=[1, 2, 3], X=X_test, coverage=[0.9, 0.95]))"
   ]
  },
  {
   "attachments": {},
   "cell_type": "markdown",
   "id": "6e5ec99a",
   "metadata": {},
   "source": [
    "option 2: `pyfunc` based"
   ]
  },
  {
   "cell_type": "code",
   "execution_count": null,
   "id": "ea02a4a5",
   "metadata": {},
   "outputs": [],
   "source": [
    "import pandas as pd\n",
    "\n",
    "# Convert test data to numpy array so it can be passed to pyfunc predict using\n",
    "# a single-row Pandas DataFrame configuration argument\n",
    "X_test_array = X_test.to_numpy()\n",
    "\n",
    "# Create configuration DataFrame for interval forecast with nominal coverage\n",
    "# value [0.9,0.95], future forecast horizon of 3 periods, and exogenous regressor.\n",
    "predict_conf = pd.DataFrame(\n",
    "    [\n",
    "        {\n",
    "            \"fh\": [1, 2, 3],\n",
    "            \"predict_method\": \"predict_interval\",\n",
    "            \"coverage\": [0.9, 0.95],\n",
    "            \"X\": X_test_array,\n",
    "        }\n",
    "    ]\n",
    ")\n",
    "\n",
    "loaded_pyfunc = mlflavors.sktime.pyfunc.load_model(model_uri=model_uri)\n",
    "print(loaded_pyfunc.predict(predict_conf))"
   ]
  },
  {
   "attachments": {},
   "cell_type": "markdown",
   "id": "a07ccb6a",
   "metadata": {},
   "source": [
    "# Serving the model to an endpoint"
   ]
  },
  {
   "attachments": {},
   "cell_type": "markdown",
   "id": "f3949845",
   "metadata": {},
   "source": [
    "for serving at **local REST API endpoint**:\n",
    "\n",
    "```bash\n",
    "mlflow models serve -m runs:/<run_id>/model --env-manager local --host 127.0.0.1\n",
    "```\n",
    "\n",
    "with `run_id` as obtained in the \"save\" step.\n",
    "\n",
    "Then, run the below model scoring script to request a prediction from the served model."
   ]
  },
  {
   "attachments": {},
   "cell_type": "markdown",
   "id": "d889b702",
   "metadata": {},
   "source": [
    "for serving the model to an **endpoint in the cloud** (e.g. Azure ML, AWS SageMaker, etc.):\n",
    "\n",
    "use [MLflow deployment tools](https://mlflow.org/docs/latest/models.html#built-in-deployment-tools)):"
   ]
  },
  {
   "cell_type": "code",
   "execution_count": null,
   "id": "58c11c04",
   "metadata": {},
   "outputs": [],
   "source": [
    "import pandas as pd\n",
    "import requests\n",
    "from sktime.datasets import load_longley\n",
    "from sktime.forecasting.model_selection import temporal_train_test_split\n",
    "\n",
    "y, X = load_longley()\n",
    "y_train, y_test, X_train, X_test = temporal_train_test_split(y, X)\n",
    "\n",
    "# Define local host and endpoint url\n",
    "host = \"127.0.0.1\"\n",
    "url = f\"http://{host}:5000/invocations\"\n",
    "\n",
    "# Model scoring via REST API requires transforming the configuration DataFrame\n",
    "# into JSON format. As numpy ndarray type is not JSON serializable we need to\n",
    "# convert the exogenous regressor into a list. The wrapper instance will convert\n",
    "# the list back to ndarray type as required by sktime predict methods. For more\n",
    "# details read the MLflow deployment API reference.\n",
    "# (https://mlflow.org/docs/latest/models.html#deploy-mlflow-models)\n",
    "X_test_list = X_test.to_numpy().tolist()\n",
    "predict_conf = pd.DataFrame(\n",
    "    [\n",
    "        {\n",
    "            \"fh\": [1, 2, 3],\n",
    "            \"predict_method\": \"predict_interval\",\n",
    "            \"coverage\": [0.9, 0.95],\n",
    "            \"X\": X_test_list,\n",
    "        }\n",
    "    ]\n",
    ")\n",
    "\n",
    "# Create dictionary with pandas DataFrame in the split orientation\n",
    "json_data = {\"dataframe_split\": predict_conf.to_dict(orient=\"split\")}\n",
    "\n",
    "# Score model\n",
    "response = requests.post(url, json=json_data)\n",
    "print(response.json())"
   ]
  },
  {
   "attachments": {},
   "cell_type": "markdown",
   "id": "2d1c59a2",
   "metadata": {},
   "source": [
    "---\n",
    "### Credits: notebook 6 - deploy to production with mlflow / mlflavors\n",
    "\n",
    "notebook creation: benjaminbluhm\n",
    "\n",
    "minor rearranging by fkiraly\n",
    "\n",
    "mlflavors, `sktime` mlflow interface: benjaminbluhm"
   ]
  }
 ],
 "metadata": {
  "kernelspec": {
   "display_name": "Python 3 (ipykernel)",
   "language": "python",
   "name": "python3"
  },
  "language_info": {
   "codemirror_mode": {
    "name": "ipython",
    "version": 3
   },
   "file_extension": ".py",
   "mimetype": "text/x-python",
   "name": "python",
   "nbconvert_exporter": "python",
   "pygments_lexer": "ipython3",
   "version": "3.10.11"
  }
 },
 "nbformat": 4,
 "nbformat_minor": 5
}
