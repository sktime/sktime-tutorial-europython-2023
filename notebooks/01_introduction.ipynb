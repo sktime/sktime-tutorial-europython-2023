{
 "cells": [
  {
   "attachments": {},
   "cell_type": "markdown",
   "metadata": {},
   "source": [
    "![](./img/sktime-logo-text-horizontal.jpg)"
   ]
  },
  {
   "attachments": {},
   "cell_type": "markdown",
   "metadata": {},
   "source": [
    "### Agenda for today\n",
    "\n",
    "1. General introduction to `sktime` & `sklearn`\n",
    "\n",
    "2. forecasting with `sktime`\n",
    "\n",
    "3. feature extraction, tuning, autoML\n",
    "\n",
    "4. time series classification, regression, and clustering with `sktime`\n",
    "\n",
    "5. customizing time series distances, kernels, time series aligners and alignment distances\n",
    "\n",
    "6. overview from ML eng & API perspective - estimators modules, learning tasks, library\n",
    "\n",
    "7. deployment with `mlflow` / `mlflavors`"
   ]
  },
  {
   "attachments": {},
   "cell_type": "markdown",
   "metadata": {},
   "source": [
    "### Running the notebooks"
   ]
  },
  {
   "attachments": {},
   "cell_type": "markdown",
   "metadata": {},
   "source": [
    "all notebooks available on `github.com/sktime`\n",
    "\n",
    "repository: `github.com/sktime/sktime-tutorial-europython-2023`\n",
    "\n",
    "* README instructions to run notebooks locally\n",
    "* binder to run notebooks in the cloud (if wifi allows)\n",
    "\n",
    "help, Q&A, developer chat in EuroPython [`sktime` tutorial discord thread](https://discord.com/channels/1120766458528542794/1130170803137282118)"
   ]
  },
  {
   "attachments": {},
   "cell_type": "markdown",
   "metadata": {},
   "source": [
    "## 1 - Introduction to ``sktime``\n",
    "\n",
    "### 1.1 What is ``sktime``?\n",
    "\n",
    "- `sktime` is a python library for time series learning tasks!\n",
    "  - check [our website](https://www.sktime.net/en/latest/index.html)! \n",
    "  - integrative framework layer in the time series space"
   ]
  },
  {
   "attachments": {},
   "cell_type": "markdown",
   "metadata": {},
   "source": [
    "- `sklearn` / `sktime` interface:\n",
    "  - unified interface for objects/estimators\n",
    "  - modular design, strategy pattern\n",
    "  - composable, composites are interface homogenous\n",
    "  - simple specification language and parameter interface\n",
    "  - visually informative pretty printing"
   ]
  },
  {
   "attachments": {},
   "cell_type": "markdown",
   "metadata": {},
   "source": [
    "- `sktime` is a vibrant, welcoming community with mentoring opportunities!\n",
    "  - We *love* new contributors. Even if you are new to open source software developement!\n",
    "  - Check out the ``sktime`` [new contributors guide](https://www.sktime.net/en/latest/get_involved/contributing.html)\n",
    "  - join our [discord](https://discord.com/invite/54ACzaFsn7) and/or one of our regular meetups!\n",
    "  - follow us on [LinkedIn](https://www.linkedin.com/company/scikit-time/)!"
   ]
  },
  {
   "attachments": {},
   "cell_type": "markdown",
   "metadata": {},
   "source": [
    "### 1.2 sklearn unified interface - the strategy pattern\n",
    "\n",
    "`sklearn` provides a unified interface to multiple learning tasks including classification, regression.\n",
    "\n",
    "any (supervised) estimator has the following interface points\n",
    "\n",
    "1. **Instantiate** your model of choice, with parameter settings\n",
    "2. **Fit** the instance of your model\n",
    "3. Use that fitted instance to **predict** new data!\n",
    "\n",
    "![](./img/estimator-conceptual-model.jpg)"
   ]
  },
  {
   "cell_type": "code",
   "execution_count": 1,
   "metadata": {},
   "outputs": [],
   "source": [
    "# get data to use the model on\n",
    "from sklearn.datasets import load_iris\n",
    "from sklearn.model_selection import train_test_split\n",
    "\n",
    "X, y = load_iris(return_X_y=True, as_frame=True)\n",
    "X_train, X_test, y_train, y_test = train_test_split(X, y)\n",
    "\n",
    "# data are pd.DataFrame/pd.Series\n",
    "# X_train.shape = (112, 4)  - 112 train flowers times 4 features\n",
    "#                             sepal length, sepal width, petal length, petal width\n",
    "# y_train.shape = (112,)    - 112 categorical labels  - one of 3 flower types 0, 1, 2\n",
    "# X_test.shape = (38, 4)  - 38 test flowers times 4 features\n",
    "# y_test.shape = (38,)    - 38 cagetorical labels - one of 3 flower types\n"
   ]
  },
  {
   "cell_type": "code",
   "execution_count": 2,
   "metadata": {},
   "outputs": [
    {
     "data": {
      "text/plain": [
       "array([0, 2, 2, 1, 2, 0, 2, 0, 0, 0, 1, 1, 0, 0, 0, 0, 2, 2, 0, 0, 0, 0,\n",
       "       1, 1, 0, 2, 0, 1, 0, 0, 2, 2, 1, 0, 2, 1, 2, 2])"
      ]
     },
     "execution_count": 2,
     "metadata": {},
     "output_type": "execute_result"
    }
   ],
   "source": [
    "from sklearn.svm import SVC\n",
    "\n",
    "# 1. Instantiate SVC with parameters gamma, C\n",
    "clf = SVC(gamma=0.001, C=100.)\n",
    "# clf is an instance of SVC now\n",
    "\n",
    "# 2. Fit clf to training data = 112 feature/label pairs\n",
    "clf.fit(X_train, y_train)\n",
    "# clf changes state to \"fitted\", computes model\n",
    "\n",
    "# 3. Predict labels on test data = 38 feature vectors\n",
    "y_test_pred = clf.predict(X_test)\n",
    "# produces predictions for the test data, 38 labels\n",
    "\n",
    "y_test_pred\n",
    "# y_test_pred.shape = (38,)"
   ]
  },
  {
   "attachments": {},
   "cell_type": "markdown",
   "metadata": {},
   "source": [
    "IMPORTANT: to use another classifier, only the specification line, part 1 changes!\n",
    "\n",
    "`SVC` could have been `RandomForest`, steps 2 and 3 remain the same - unified interface:"
   ]
  },
  {
   "cell_type": "code",
   "execution_count": 3,
   "metadata": {},
   "outputs": [
    {
     "data": {
      "text/plain": [
       "array([0, 2, 2, 1, 2, 0, 2, 0, 0, 0, 1, 1, 0, 0, 0, 0, 2, 1, 0, 0, 0, 0,\n",
       "       1, 1, 0, 2, 0, 1, 0, 0, 2, 2, 1, 0, 2, 1, 2, 2])"
      ]
     },
     "execution_count": 3,
     "metadata": {},
     "output_type": "execute_result"
    }
   ],
   "source": [
    "from sklearn.ensemble import RandomForestClassifier\n",
    "\n",
    "# 1. Instantiate SVC with parameters gamma, C\n",
    "clf = RandomForestClassifier(n_estimators=100)\n",
    "\n",
    "# 2. Fit clf to training data\n",
    "clf.fit(X_train, y_train)\n",
    "\n",
    "# 3. Predict labels on test data\n",
    "y_test_pred = clf.predict(X_test)\n",
    "\n",
    "y_test_pred"
   ]
  },
  {
   "attachments": {},
   "cell_type": "markdown",
   "metadata": {},
   "source": [
    "in object oriented design terminology, this is called **\"strategy pattern\"**\n",
    "\n",
    "= different estimators can be switched out without change to the interface\n",
    "\n",
    "= like a power plug adapter, it's plug&play if it conforms with the interface\n",
    "\n",
    "Pictorial summary:\n",
    "![](./img/sklearn-unified-interface.jpg)"
   ]
  },
  {
   "attachments": {},
   "cell_type": "markdown",
   "metadata": {},
   "source": [
    "`sklearn` estimators are parametric:\n",
    "\n",
    "all parameters in the \"blueprint\" accessed and set via `get_params`, `set_params`:"
   ]
  },
  {
   "cell_type": "code",
   "execution_count": 4,
   "metadata": {},
   "outputs": [
    {
     "data": {
      "text/plain": [
       "{'bootstrap': True,\n",
       " 'ccp_alpha': 0.0,\n",
       " 'class_weight': None,\n",
       " 'criterion': 'gini',\n",
       " 'max_depth': None,\n",
       " 'max_features': 'sqrt',\n",
       " 'max_leaf_nodes': None,\n",
       " 'max_samples': None,\n",
       " 'min_impurity_decrease': 0.0,\n",
       " 'min_samples_leaf': 1,\n",
       " 'min_samples_split': 2,\n",
       " 'min_weight_fraction_leaf': 0.0,\n",
       " 'n_estimators': 100,\n",
       " 'n_jobs': None,\n",
       " 'oob_score': False,\n",
       " 'random_state': None,\n",
       " 'verbose': 0,\n",
       " 'warm_start': False}"
      ]
     },
     "execution_count": 4,
     "metadata": {},
     "output_type": "execute_result"
    }
   ],
   "source": [
    "clf.get_params()"
   ]
  },
  {
   "attachments": {},
   "cell_type": "markdown",
   "metadata": {},
   "source": [
    "### 1.3 `sktime` is devoted to time-series data analysis\n",
    "\n",
    "Richer space of time series tasks, compared to \"tabular\":\n",
    "\n",
    "- **Forecasting** - predict energy consumption tomorrow, based on past weeks\n",
    "- **Classification** - classify electrocardiograms to healthy/sick, based on prior examples\n",
    "- **Regression** - predict compound purity in bioreactor based on temperature/pressure profile\n",
    "- **Clustering** - sort outlines of tree leaves into a small number of similar classes\n",
    "- **Annotation** - identify jumps, anomalies, events in a data stream"
   ]
  },
  {
   "attachments": {},
   "cell_type": "markdown",
   "metadata": {},
   "source": [
    "`sktime` aims to provide `sklearn`-like, modular, composable, interfaces for these!"
   ]
  },
  {
   "attachments": {},
   "cell_type": "markdown",
   "metadata": {},
   "source": [
    "| Task | Status | Links |\n",
    "|---|---|---|\n",
    "| **Forecasting** | stable | [Tutorial](https://www.sktime.net/en/latest/examples/01_forecasting.html) · [API Reference](https://www.sktime.net/en/latest/api_reference/forecasting.html) · [Extension Template](https://github.com/sktime/sktime/blob/main/extension_templates/forecasting.py)  |\n",
    "| **Time Series Classification** | stable | [Tutorial](https://github.com/sktime/sktime/blob/main/examples/02_classification.ipynb) · [API Reference](https://www.sktime.net/en/latest/api_reference/classification.html) · [Extension Template](https://github.com/sktime/sktime/blob/main/extension_templates/classification.py) |\n",
    "| **Time Series Regression** | stable | [API Reference](https://www.sktime.net/en/latest/api_reference/regression.html) |\n",
    "| **Transformations** | stable | [Tutorial](https://github.com/sktime/sktime/blob/main/examples/03_transformers.ipynb) · [API Reference](https://www.sktime.net/en/latest/api_reference/transformations.html) · [Extension Template](https://github.com/sktime/sktime/blob/main/extension_templates/transformer.py)  |\n",
    "| **Parameter fitting** | maturing | [API Reference](https://www.sktime.net/en/latest/api_reference/param_est.html) · [Extension Template](https://github.com/sktime/sktime/blob/main/extension_templates/transformer.py)  |\n",
    "| **Time Series Clustering** | maturing | [API Reference](https://www.sktime.net/en/latest/api_reference/clustering.html) ·  [Extension Template](https://github.com/sktime/sktime/blob/main/extension_templates/clustering.py) |\n",
    "| **Time Series Distances/Kernels** | maturing | [Tutorial](https://github.com/sktime/sktime/blob/main/examples/03_transformers.ipynb) · [API Reference](https://www.sktime.net/en/latest/api_reference/dists_kernels.html) · [Extension Template](https://github.com/sktime/sktime/blob/main/extension_templates/dist_kern_panel.py) |\n",
    "| **Annotation** | experimental | [Extension Template](https://github.com/sktime/sktime/blob/main/extension_templates/annotation.py) |\n",
    "| **Distributions and simulation** | experimental |  |"
   ]
  },
  {
   "attachments": {},
   "cell_type": "markdown",
   "metadata": {},
   "source": [
    "Example - forecasting"
   ]
  },
  {
   "attachments": {},
   "cell_type": "markdown",
   "metadata": {},
   "source": [
    "![](./img/tasks-forecasting.png)"
   ]
  },
  {
   "cell_type": "code",
   "execution_count": 5,
   "metadata": {},
   "outputs": [],
   "source": [
    "from sktime.datasets import load_airline\n",
    "from sktime.forecasting.naive import NaiveForecaster\n",
    "import numpy as np\n",
    "\n",
    "# step 1: data specification\n",
    "y = load_airline()\n",
    "# y = pandas.Series, y.shape = (150,)\n",
    "# 150 months of monthly observations\n",
    "\n",
    "# step 2: specifying forecasting horizon\n",
    "fh = np.arange(1, 37)\n",
    "# we want to forecast 36 months = 3 years\n",
    "\n",
    "# step 3: specifying the forecasting algorithm\n",
    "forecaster = NaiveForecaster(strategy=\"last\", sp=12)\n",
    "\n",
    "# step 4: fitting the forecaster\n",
    "forecaster.fit(y)\n",
    "\n",
    "# step 5: querying predictions\n",
    "y_pred = forecaster.predict(fh)\n",
    "# y_pred is a \"continuation\" of y\n",
    "# y_pred.shape = (36,) = forecasts for 36 months"
   ]
  },
  {
   "attachments": {},
   "cell_type": "markdown",
   "metadata": {},
   "source": [
    "Example - classification"
   ]
  },
  {
   "attachments": {},
   "cell_type": "markdown",
   "metadata": {},
   "source": [
    "![](./img/tasks-tsc.png)"
   ]
  },
  {
   "cell_type": "code",
   "execution_count": 6,
   "metadata": {},
   "outputs": [],
   "source": [
    "from sktime.datasets import load_osuleaf\n",
    "from sktime.classification.distance_based import KNeighborsTimeSeriesClassifier\n",
    "from sktime.dists_kernels.compose_tab_to_panel import FlatDist\n",
    "from sktime.dists_kernels import ScipyDist\n",
    "\n",
    "# step 1 - specify training data\n",
    "X_train, y_train = load_osuleaf(split=\"train\", return_type=\"numpy3D\")\n",
    "\n",
    "# step 2 - specify data to predict labels for\n",
    "X_new, _ = load_osuleaf(split=\"test\", return_type=\"numpy3D\")\n",
    "X_new = X_new[:2]\n",
    "\n",
    "# step 3 - specify the classifier\n",
    "mean_eucl_dist = FlatDist(ScipyDist())\n",
    "clf = KNeighborsTimeSeriesClassifier(n_neighbors=3, distance=mean_eucl_dist)\n",
    "\n",
    "# step 4 - fitting the classifier\n",
    "clf.fit(X_train, y_train)\n",
    "\n",
    "# step 5 - predict labels on new data\n",
    "y_pred = clf.predict(X_new)"
   ]
  },
  {
   "attachments": {},
   "cell_type": "markdown",
   "metadata": {},
   "source": [
    "### 1.4 `sktime` integrates the time series modelling ecosystem!\n",
    "\n",
    "the package space for time series is highly fragmented:\n",
    "\n",
    "* lots of great implementations and methods out there!\n",
    "* but many different interfaces, not composable like `sklearn`\n",
    "\n",
    "`sktime` integrates the ecosystem - in friendly collaboration with all the packages out there!\n",
    "\n",
    "* unified interface standard\n",
    "* highly composable\n",
    "* mini-package manager on estiator/module level\n",
    "* easily extensible - 3rd party plugins, other packages\n",
    "\n",
    "![](./img/unified_framework.png)"
   ]
  },
  {
   "attachments": {},
   "cell_type": "markdown",
   "metadata": {},
   "source": [
    "### 1.5 Summary/What is next!\n",
    "\n",
    "- `sklearn` interface: unified interface (strategy pattern), modular, composition stable, easy specification language\n",
    "- `sktime` evolves the interface for time series learning tasks\n",
    "- `sktime` integrates a fragmented ecosytem with interface, composability, dependency management\n",
    "\n",
    "- today:\n",
    "    * deep dive forecasting\n",
    "    * feature extraction, tuning, autoML\n",
    "    * deep dive classification and panel tasks regression, clustering\n",
    "    * time series distances, kernels, alignment\n",
    "    * engineering/API perspective, deployment"
   ]
  },
  {
   "attachments": {},
   "cell_type": "markdown",
   "metadata": {},
   "source": [
    "---\n",
    "### Credits: notebook 1 - `sktime` intro\n",
    "\n",
    "notebook creation: fkiraly, marrov\n",
    "\n",
    "some vignettes based on existing `sktime` tutorials, credit: fkiraly, miraep8\n",
    "\n",
    "slides (png/jpg):\n",
    "\n",
    "* from fkiraly's postgraduate course at UCL, Principles and Patterns in Data Scientific Software Engineering\n",
    "* ecosystem slide: fkiraly, mloning\n",
    "* learning tasks: fkiraly, mloning\n",
    "\n",
    "General credit also to `sklearn` and `sktime` contributors"
   ]
  }
 ],
 "metadata": {
  "kernelspec": {
   "display_name": "Python 3.8.13 ('pydata22')",
   "language": "python",
   "name": "python3"
  },
  "language_info": {
   "codemirror_mode": {
    "name": "ipython",
    "version": 3
   },
   "file_extension": ".py",
   "mimetype": "text/x-python",
   "name": "python",
   "nbconvert_exporter": "python",
   "pygments_lexer": "ipython3",
   "version": "3.11.3"
  },
  "orig_nbformat": 4,
  "vscode": {
   "interpreter": {
    "hash": "e61b44dca3bf47c8973c8cd627825697e2dad493e19dd6592afda0a0a3c312a0"
   }
  }
 },
 "nbformat": 4,
 "nbformat_minor": 2
}
